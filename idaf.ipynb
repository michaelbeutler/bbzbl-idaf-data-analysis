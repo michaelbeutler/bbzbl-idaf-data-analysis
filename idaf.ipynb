{
 "cells": [
  {
   "cell_type": "markdown",
   "metadata": {},
   "source": [
    "# IDAF 📊\n"
   ]
  },
  {
   "cell_type": "markdown",
   "metadata": {},
   "source": [
    "# Data Preparation\n",
    "\n",
    "The initial data included the mean value for different european countries. This dataset can have a huge impact on overall visualization.\n"
   ]
  },
  {
   "cell_type": "code",
   "execution_count": 1,
   "metadata": {},
   "outputs": [],
   "source": [
    "import pandas as pd\n",
    "import matplotlib.pyplot as plt\n",
    "import numpy as np\n",
    "import math"
   ]
  },
  {
   "cell_type": "code",
   "execution_count": 2,
   "metadata": {},
   "outputs": [],
   "source": [
    "# Import data\n",
    "df2008to2010 = pd.read_csv('./data/data_2008-2010.csv',\n",
    "                           sep=';').assign(timespan='2008-2010')\n",
    "\n",
    "df2018to2020 = pd.read_csv('./data/data_2018-2020.csv',\n",
    "                           sep=';').assign(timespan='2018-2020')\n",
    "\n",
    "# Combine\n",
    "df = pd.concat([df2008to2010, df2018to2020])"
   ]
  },
  {
   "cell_type": "code",
   "execution_count": 3,
   "metadata": {},
   "outputs": [],
   "source": [
    "# Helpers\n",
    "def format_hist(hist):\n",
    "    for ax in hist.flatten():\n",
    "        ax.set_xlabel(\"in %\")\n",
    "        ax.set_ylabel(\"Häufigkeit\")"
   ]
  },
  {
   "cell_type": "code",
   "execution_count": 4,
   "metadata": {},
   "outputs": [
    {
     "data": {
      "text/plain": [
       "count    28.000000\n",
       "mean     55.550000\n",
       "std       4.056134\n",
       "min      48.300000\n",
       "25%      53.450000\n",
       "50%      55.400000\n",
       "75%      58.000000\n",
       "max      64.400000\n",
       "Name: Frauenanteil bei den Studierenden im Tertiärbereich 1, dtype: float64"
      ]
     },
     "execution_count": 4,
     "metadata": {},
     "output_type": "execute_result"
    }
   ],
   "source": [
    "# Describe\n",
    "df2008to2010['Frauenanteil bei den Studierenden im Tertiärbereich 1'].describe(\n",
    ")\n"
   ]
  },
  {
   "cell_type": "code",
   "execution_count": 5,
   "metadata": {},
   "outputs": [
    {
     "data": {
      "text/plain": [
       "count    32.000000\n",
       "mean     54.587500\n",
       "std       4.771944\n",
       "min      35.800000\n",
       "25%      53.050000\n",
       "50%      55.000000\n",
       "75%      57.200000\n",
       "max      63.600000\n",
       "Name: Frauenanteil bei den Studierenden im Tertiärbereich 1, dtype: float64"
      ]
     },
     "execution_count": 5,
     "metadata": {},
     "output_type": "execute_result"
    }
   ],
   "source": [
    "# Describe\n",
    "df2018to2020['Frauenanteil bei den Studierenden im Tertiärbereich 1'].describe(\n",
    ")\n"
   ]
  },
  {
   "cell_type": "code",
   "execution_count": 6,
   "metadata": {},
   "outputs": [
    {
     "data": {
      "text/plain": [
       "count    28.000000\n",
       "mean     23.757143\n",
       "std      10.342556\n",
       "min       8.700000\n",
       "25%      16.800000\n",
       "50%      21.050000\n",
       "75%      29.950000\n",
       "max      45.000000\n",
       "Name: Frauenanteil in nationalen Parlamenten, dtype: float64"
      ]
     },
     "execution_count": 6,
     "metadata": {},
     "output_type": "execute_result"
    }
   ],
   "source": [
    "# Describe\n",
    "df2008to2010['Frauenanteil in nationalen Parlamenten'].describe(\n",
    ")"
   ]
  },
  {
   "cell_type": "code",
   "execution_count": 7,
   "metadata": {},
   "outputs": [
    {
     "data": {
      "text/plain": [
       "count    32.000000\n",
       "mean     30.744375\n",
       "std       9.917911\n",
       "min      12.000000\n",
       "25%      22.500000\n",
       "50%      30.565000\n",
       "75%      39.547500\n",
       "max      46.990000\n",
       "Name: Frauenanteil in nationalen Parlamenten, dtype: float64"
      ]
     },
     "execution_count": 7,
     "metadata": {},
     "output_type": "execute_result"
    }
   ],
   "source": [
    "# Describe\n",
    "df2018to2020['Frauenanteil in nationalen Parlamenten'].describe(\n",
    ")"
   ]
  },
  {
   "cell_type": "code",
   "execution_count": 8,
   "metadata": {},
   "outputs": [
    {
     "data": {
      "image/png": "[encoded data removed]",
      "text/plain": [
       "<Figure size 720x360 with 2 Axes>"
      ]
     },
     "metadata": {
      "needs_background": "light"
     },
     "output_type": "display_data"
    }
   ],
   "source": [
    "# Print hist for Frauenanteil bei den Studierenden im Tertiärbereich 1 2008-2010, 2018-2020\n",
    "bins = np.arange(start=50, stop=64, step=2)\n",
    "hist = df.hist(column='Frauenanteil bei den Studierenden im Tertiärbereich 1',\n",
    "               figsize=[10, 5],\n",
    "               by='timespan',\n",
    "               bins=bins,\n",
    "               edgecolor='black')\n",
    "\n",
    "format_hist(hist)"
   ]
  },
  {
   "cell_type": "code",
   "execution_count": 9,
   "metadata": {},
   "outputs": [
    {
     "data": {
      "image/png": "[encoded data removed]",
      "text/plain": [
       "<Figure size 720x360 with 2 Axes>"
      ]
     },
     "metadata": {
      "needs_background": "light"
     },
     "output_type": "display_data"
    }
   ],
   "source": [
    "# Print hist for Frauenanteil in nationalen Parlamenten 2008-2010, 2018-2020\n",
    "bins = np.arange(start=10, stop=40, step=5)\n",
    "hist = df.hist(column='Frauenanteil in nationalen Parlamenten',\n",
    "               figsize=[10, 5],\n",
    "               by='timespan',\n",
    "               bins=bins,\n",
    "               edgecolor='black')\n",
    "\n",
    "format_hist(hist)"
   ]
  },
  {
   "cell_type": "code",
   "execution_count": 10,
   "metadata": {},
   "outputs": [
    {
     "data": {
      "text/plain": [
       "<AxesSubplot:title={'center':'Frauenanteil bei den Studierenden im Tertiärbereich 1'}, xlabel='timespan'>"
      ]
     },
     "execution_count": 10,
     "metadata": {},
     "output_type": "execute_result"
    },
    {
     "data": {
      "image/png": "[encoded data removed]",
      "text/plain": [
       "<Figure size 720x360 with 1 Axes>"
      ]
     },
     "metadata": {
      "needs_background": "light"
     },
     "output_type": "display_data"
    }
   ],
   "source": [
    "# Print boxplot\n",
    "df.boxplot(by='timespan',\n",
    "           column='Frauenanteil bei den Studierenden im Tertiärbereich 1',\n",
    "           figsize=(10, 5))"
   ]
  },
  {
   "cell_type": "code",
   "execution_count": 11,
   "metadata": {},
   "outputs": [
    {
     "data": {
      "text/plain": [
       "<AxesSubplot:title={'center':'Frauenanteil in nationalen Parlamenten'}, xlabel='timespan'>"
      ]
     },
     "execution_count": 11,
     "metadata": {},
     "output_type": "execute_result"
    },
    {
     "data": {
      "image/png": "[encoded data removed]",
      "text/plain": [
       "<Figure size 720x360 with 1 Axes>"
      ]
     },
     "metadata": {
      "needs_background": "light"
     },
     "output_type": "display_data"
    }
   ],
   "source": [
    "# Print boxplot\n",
    "df.boxplot(by='timespan',\n",
    "           column='Frauenanteil in nationalen Parlamenten',\n",
    "           figsize=(10, 5))\n"
   ]
  }
 ],
 "metadata": {
  "interpreter": {
   "hash": "f38d0713abd875af95276985fa68bf2f0f3fed107688843c95a10bf62da9158d"
  },
  "kernelspec": {
   "display_name": "Python 3.9.0 64-bit",
   "name": "python3"
  },
  "language_info": {
   "codemirror_mode": {
    "name": "ipython",
    "version": 3
   },
   "file_extension": ".py",
   "mimetype": "text/x-python",
   "name": "python",
   "nbconvert_exporter": "python",
   "pygments_lexer": "ipython3",
   "version": "3.9.7"
  },
  "orig_nbformat": 4
 },
 "nbformat": 4,
 "nbformat_minor": 2
}
